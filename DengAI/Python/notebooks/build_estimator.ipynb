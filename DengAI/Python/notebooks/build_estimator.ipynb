{
 "cells": [
  {
   "cell_type": "code",
   "execution_count": 1,
   "metadata": {},
   "outputs": [
    {
     "name": "stderr",
     "output_type": "stream",
     "text": [
      "D:\\ProgramFiles\\Anaconda3\\lib\\site-packages\\statsmodels\\compat\\pandas.py:56: FutureWarning: The pandas.core.datetools module is deprecated and will be removed in a future version. Please use the pandas.tseries module instead.\n",
      "  from pandas.core import datetools\n"
     ]
    }
   ],
   "source": [
    "#Standard libraries\n",
    "import os\n",
    "import datetime as dt\n",
    "\n",
    "# 3rd party libraries\n",
    "import pandas as pd\n",
    "import numpy as np\n",
    "import scipy.signal as ss\n",
    "import statsmodels.api as smf\n",
    "from patsy import dmatrix, dmatrices\n",
    "\n",
    "# Visualizations\n",
    "import matplotlib.pyplot as plt\n",
    "%matplotlib inline"
   ]
  },
  {
   "cell_type": "code",
   "execution_count": 2,
   "metadata": {
    "collapsed": true
   },
   "outputs": [],
   "source": [
    "SCRIPT_DIR = os.getcwd()\n",
    "PAR_DIR = os.path.abspath(os.path.join(os.getcwd(), os.pardir)) \n",
    "DATA_DIR = os.path.join(PAR_DIR, 'Data')\n",
    "OUTPUT_DIR = os.path.join(PAR_DIR, 'Output')"
   ]
  },
  {
   "cell_type": "code",
   "execution_count": 3,
   "metadata": {
    "collapsed": true
   },
   "outputs": [],
   "source": [
    "dengai_train_features = pd.read_csv(os.path.join(DATA_DIR, 'dengue_features_train.csv'))\n",
    "dengai_train_labels = pd.read_csv(os.path.join(DATA_DIR, 'dengue_labels_train.csv'))\n",
    "dengai_test_features = pd.read_csv(os.path.join(DATA_DIR, 'dengue_features_test.csv'))"
   ]
  },
  {
   "cell_type": "code",
   "execution_count": 49,
   "metadata": {
    "collapsed": true
   },
   "outputs": [],
   "source": [
    "formula1 = \"\"\"\n",
    "            total_cases ~ C(city) + year_o + week_start_date_o + \n",
    "            ndvi_ne + ndvi_nw + ndvi_se + ndvi_sw +\n",
    "            precipitation_amt_mm + reanalysis_air_temp_k + reanalysis_avg_temp_k + \n",
    "            reanalysis_dew_point_temp_k + reanalysis_max_air_temp_k + \n",
    "            reanalysis_min_air_temp_k + reanalysis_precip_amt_kg_per_m2 + \n",
    "            reanalysis_relative_humidity_percent + reanalysis_sat_precip_amt_mm + \n",
    "            reanalysis_specific_humidity_g_per_kg + reanalysis_tdtr_k +\n",
    "            station_avg_temp_c + station_diur_temp_rng_c + station_max_temp_c + \n",
    "            station_min_temp_c + station_precip_mm\n",
    "            \"\"\"\n",
    "formula2 = \"\"\"\n",
    "            total_cases ~ C(city) + week_start_date_o + ndvi_ne + ndvi_nw + ndvi_se + ndvi_sw\n",
    "            \"\"\"\n",
    "formula3 = \"\"\"\n",
    "            total_cases ~ C(city) + year_o + week_start_date_o + \n",
    "            week_start_date + ndvi_ne + ndvi_nw + ndvi_se + ndvi_sw +\n",
    "            precipitation_amt_mm + reanalysis_air_temp_k + reanalysis_avg_temp_k \n",
    "            \"\"\""
   ]
  },
  {
   "cell_type": "code",
   "execution_count": 50,
   "metadata": {},
   "outputs": [],
   "source": [
    "# Concatenate training data labels with the features\n",
    "full_data = pd.concat((dengai_train_labels['total_cases'], dengai_train_features), axis=1)\n",
    "full_data['week_start_date_o'] = pd.to_datetime(full_data['week_start_date']).map(dt.datetime.toordinal)\n",
    "full_data['year_o'] = pd.to_datetime(full_data['year']).map(dt.datetime.toordinal)\n",
    "full_data = full_data.fillna(full_data.mean())\n",
    "outcome, predictors = dmatrices(formula1, full_data, return_type='dataframe')\n"
   ]
  },
  {
   "cell_type": "code",
   "execution_count": 51,
   "metadata": {},
   "outputs": [
    {
     "name": "stdout",
     "output_type": "stream",
     "text": [
      "(947, 24) (364, 24) (145, 24)\n"
     ]
    }
   ],
   "source": [
    "train_cutoff = int(np.ceil(0.65 * predictors.shape[0]))\n",
    "dev_cutoff = int(np.ceil(0.90 * predictors.shape[0]))\n",
    "\n",
    "outcome_train, predictors_train = outcome[:train_cutoff], predictors[:train_cutoff]\n",
    "outcome_dev, predictors_dev = outcome[train_cutoff:dev_cutoff], predictors[train_cutoff:dev_cutoff]\n",
    "outcome_test, predictors_test = outcome[dev_cutoff:], predictors[dev_cutoff:]\n",
    "\n",
    "print(predictors_train.shape, predictors_dev.shape, predictors_test.shape)"
   ]
  },
  {
   "cell_type": "code",
   "execution_count": 58,
   "metadata": {},
   "outputs": [
    {
     "name": "stdout",
     "output_type": "stream",
     "text": [
      "                 Generalized Linear Model Regression Results                  \n",
      "==============================================================================\n",
      "Dep. Variable:            total_cases   No. Observations:                  947\n",
      "Model:                            GLM   Df Residuals:                      925\n",
      "Model Family:                 Poisson   Df Model:                           21\n",
      "Link Function:                    log   Scale:                             1.0\n",
      "Method:                          IRLS   Log-Likelihood:                -17264.\n",
      "Date:                Thu, 14 Dec 2017   Deviance:                       30070.\n",
      "Time:                        22:22:08   Pearson chi2:                 4.61e+04\n",
      "No. Iterations:                    10                                         \n",
      "=========================================================================================================\n",
      "                                            coef    std err          z      P>|z|      [0.025      0.975]\n",
      "---------------------------------------------------------------------------------------------------------\n",
      "Intercept                              5.511e-10   4.86e-11     11.347      0.000    4.56e-10    6.46e-10\n",
      "C(city)[T.sj]                             5.4198      1.047      5.176      0.000       3.368       7.472\n",
      "year_o                                    0.0004   3.49e-05     11.347      0.000       0.000       0.000\n",
      "week_start_date_o                        -0.0003   4.83e-06    -53.031      0.000      -0.000      -0.000\n",
      "ndvi_ne                                   0.1319      0.076      1.730      0.084      -0.018       0.281\n",
      "ndvi_nw                                  -0.2991      0.088     -3.387      0.001      -0.472      -0.126\n",
      "ndvi_se                                   0.1880      0.185      1.017      0.309      -0.174       0.550\n",
      "ndvi_sw                                   0.7408      0.186      3.992      0.000       0.377       1.105\n",
      "precipitation_amt_mm                     -0.0010    8.8e-05    -11.777      0.000      -0.001      -0.001\n",
      "reanalysis_air_temp_k                     1.3409      0.290      4.619      0.000       0.772       1.910\n",
      "reanalysis_avg_temp_k                    -1.3243      0.076    -17.323      0.000      -1.474      -1.174\n",
      "reanalysis_dew_point_temp_k              -0.9349      0.267     -3.504      0.000      -1.458      -0.412\n",
      "reanalysis_max_air_temp_k                 0.4206      0.017     24.381      0.000       0.387       0.454\n",
      "reanalysis_min_air_temp_k                 0.1226      0.020      6.269      0.000       0.084       0.161\n",
      "reanalysis_precip_amt_kg_per_m2           0.0017      0.000      8.869      0.000       0.001       0.002\n",
      "reanalysis_relative_humidity_percent     -0.0234      0.059     -0.400      0.689      -0.138       0.091\n",
      "reanalysis_sat_precip_amt_mm             -0.0010    8.8e-05    -11.777      0.000      -0.001      -0.001\n",
      "reanalysis_specific_humidity_g_per_kg     0.9810      0.081     12.101      0.000       0.822       1.140\n",
      "reanalysis_tdtr_k                        -0.1191      0.021     -5.751      0.000      -0.160      -0.079\n",
      "station_avg_temp_c                       -0.4091      0.019    -21.171      0.000      -0.447      -0.371\n",
      "station_diur_temp_rng_c                  -0.0659      0.012     -5.389      0.000      -0.090      -0.042\n",
      "station_max_temp_c                        0.1036      0.009     11.157      0.000       0.085       0.122\n",
      "station_min_temp_c                        0.0715      0.012      6.116      0.000       0.049       0.094\n",
      "station_precip_mm                         0.0018      0.000      7.187      0.000       0.001       0.002\n",
      "=========================================================================================================\n"
     ]
    }
   ],
   "source": [
    "poisson_model = smf.GLM(outcome_train, predictors_train, family=smf.families.Poisson())\n",
    "poisson_results = poisson_model.fit()\n",
    "print(poisson_results.summary())"
   ]
  },
  {
   "cell_type": "code",
   "execution_count": 63,
   "metadata": {},
   "outputs": [
    {
     "data": {
      "text/plain": [
       "(array([ 310.,   36.,   13.,    3.,    0.,    0.,    0.,    1.,    0.,    1.]),\n",
       " array([   0. ,   11.6,   23.2,   34.8,   46.4,   58. ,   69.6,   81.2,\n",
       "          92.8,  104.4,  116. ]),\n",
       " <a list of 10 Patch objects>)"
      ]
     },
     "execution_count": 63,
     "metadata": {},
     "output_type": "execute_result"
    },
    {
     "data": {
      "image/png": "[encoded data removed]",
      "text/plain": [
       "<matplotlib.figure.Figure at 0x1c88d69b780>"
      ]
     },
     "metadata": {},
     "output_type": "display_data"
    }
   ],
   "source": [
    "fig, ax = plt.subplots(1, 4, figsize=(10, 10))\n",
    "ax[0].hist(poisson_results.fittedvalues)\n",
    "ax[1].hist(outcome_train.values)\n",
    "ax[2].hist(predictions.values)\n",
    "ax[3].hist(outcome_dev.values)\n"
   ]
  }
 ],
 "metadata": {
  "kernelspec": {
   "display_name": "Python 3",
   "language": "python",
   "name": "python3"
  },
  "language_info": {
   "codemirror_mode": {
    "name": "ipython",
    "version": 3
   },
   "file_extension": ".py",
   "mimetype": "text/x-python",
   "name": "python",
   "nbconvert_exporter": "python",
   "pygments_lexer": "ipython3",
   "version": "3.6.2"
  }
 },
 "nbformat": 4,
 "nbformat_minor": 2
}
